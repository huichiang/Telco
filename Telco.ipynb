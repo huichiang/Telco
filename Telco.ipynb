{
 "cells": [
  {
   "cell_type": "raw",
   "metadata": {
    "deletable": true,
    "editable": true
   },
   "source": [
    "<script>\n",
    "  function code_toggle() {\n",
    "    if (code_shown){\n",
    "      $('div.input').hide('500');\n",
    "      $('#toggleButton').val('Show Code')\n",
    "    } else {\n",
    "      $('div.input').show('500');\n",
    "      $('#toggleButton').val('Hide Code')\n",
    "    }\n",
    "    code_shown = !code_shown\n",
    "  }\n",
    "\n",
    "  $( document ).ready(function(){\n",
    "    code_shown=false;\n",
    "    $('div.input').hide()\n",
    "  });\n",
    "</script>\n",
    "<form action=\"javascript:code_toggle()\"><input type=\"submit\" id=\"toggleButton\" value=\"Show Code\"></form>"
   ]
  },
  {
   "cell_type": "markdown",
   "metadata": {
    "deletable": true,
    "editable": true
   },
   "source": [
    "# Introduction"
   ]
  },
  {
   "cell_type": "markdown",
   "metadata": {
    "deletable": true,
    "editable": true
   },
   "source": [
    "In this project, we will be looking at the '3G Public Cellular Mobile Telephone Services - Nationwide Service Coverage' data set available on the Data.gov.sg website (2017). We want to see how we can fit a multivariate time series model on the data, and use our model for forecasting. Here, our data set covers the period between 2013 April and 2016 June for the 3 Singapore telephone companies (telcos), Singtel, M1 and Starhub.\n",
    "\n",
    "If you wish to see the code I used, click the 'Show Code' button at the top of the screen. The code for this was taken from Chris Said (2016)."
   ]
  },
  {
   "cell_type": "markdown",
   "metadata": {
    "deletable": true,
    "editable": true
   },
   "source": [
    "# Exploratory Data Analysis"
   ]
  },
  {
   "cell_type": "markdown",
   "metadata": {
    "deletable": true,
    "editable": true
   },
   "source": [
    "We would first like to import the data from the `csv` file that can be downloaded from the website."
   ]
  },
  {
   "cell_type": "code",
   "execution_count": 489,
   "metadata": {
    "collapsed": false,
    "deletable": true,
    "editable": true
   },
   "outputs": [
    {
     "data": {
      "text/html": [
       "<div>\n",
       "<style scoped>\n",
       "    .dataframe tbody tr th:only-of-type {\n",
       "        vertical-align: middle;\n",
       "    }\n",
       "\n",
       "    .dataframe tbody tr th {\n",
       "        vertical-align: top;\n",
       "    }\n",
       "\n",
       "    .dataframe thead th {\n",
       "        text-align: right;\n",
       "    }\n",
       "</style>\n",
       "<table border=\"1\" class=\"dataframe\">\n",
       "  <thead>\n",
       "    <tr style=\"text-align: right;\">\n",
       "      <th></th>\n",
       "      <th>month</th>\n",
       "      <th>telco</th>\n",
       "      <th>service_coverage</th>\n",
       "    </tr>\n",
       "  </thead>\n",
       "  <tbody>\n",
       "    <tr>\n",
       "      <th>0</th>\n",
       "      <td>2013-04</td>\n",
       "      <td>Singtel</td>\n",
       "      <td>99.11</td>\n",
       "    </tr>\n",
       "    <tr>\n",
       "      <th>1</th>\n",
       "      <td>2013-04</td>\n",
       "      <td>M1</td>\n",
       "      <td>97.93</td>\n",
       "    </tr>\n",
       "    <tr>\n",
       "      <th>2</th>\n",
       "      <td>2013-04</td>\n",
       "      <td>Starhub</td>\n",
       "      <td>99.25</td>\n",
       "    </tr>\n",
       "    <tr>\n",
       "      <th>3</th>\n",
       "      <td>2013-05</td>\n",
       "      <td>Singtel</td>\n",
       "      <td>99.21</td>\n",
       "    </tr>\n",
       "    <tr>\n",
       "      <th>4</th>\n",
       "      <td>2013-05</td>\n",
       "      <td>M1</td>\n",
       "      <td>97.87</td>\n",
       "    </tr>\n",
       "    <tr>\n",
       "      <th>5</th>\n",
       "      <td>2013-05</td>\n",
       "      <td>Starhub</td>\n",
       "      <td>99.20</td>\n",
       "    </tr>\n",
       "    <tr>\n",
       "      <th>6</th>\n",
       "      <td>2013-06</td>\n",
       "      <td>Singtel</td>\n",
       "      <td>99.03</td>\n",
       "    </tr>\n",
       "    <tr>\n",
       "      <th>7</th>\n",
       "      <td>2013-06</td>\n",
       "      <td>M1</td>\n",
       "      <td>98.17</td>\n",
       "    </tr>\n",
       "    <tr>\n",
       "      <th>8</th>\n",
       "      <td>2013-06</td>\n",
       "      <td>Starhub</td>\n",
       "      <td>99.40</td>\n",
       "    </tr>\n",
       "    <tr>\n",
       "      <th>9</th>\n",
       "      <td>2013-07</td>\n",
       "      <td>Singtel</td>\n",
       "      <td>99.33</td>\n",
       "    </tr>\n",
       "  </tbody>\n",
       "</table>\n",
       "</div>"
      ],
      "text/plain": [
       "     month    telco  service_coverage\n",
       "0  2013-04  Singtel             99.11\n",
       "1  2013-04       M1             97.93\n",
       "2  2013-04  Starhub             99.25\n",
       "3  2013-05  Singtel             99.21\n",
       "4  2013-05       M1             97.87\n",
       "5  2013-05  Starhub             99.20\n",
       "6  2013-06  Singtel             99.03\n",
       "7  2013-06       M1             98.17\n",
       "8  2013-06  Starhub             99.40\n",
       "9  2013-07  Singtel             99.33"
      ]
     },
     "execution_count": 489,
     "metadata": {},
     "output_type": "execute_result"
    }
   ],
   "source": [
    "#Importing libraries that we will use\n",
    "import pandas as pd\n",
    "import matplotlib.pyplot as plt\n",
    "import matplotlib.dates\n",
    "from datetime import datetime\n",
    "import numpy as np\n",
    "import statsmodels.api as sm\n",
    "from statsmodels.tsa.api import VAR, DynamicVAR\n",
    "\n",
    "#Importing data from csv file into a pandas dataframe\n",
    "data = pd.read_csv('Telco.csv')\n",
    "data.head(10)"
   ]
  },
  {
   "cell_type": "markdown",
   "metadata": {
    "deletable": true,
    "editable": true
   },
   "source": [
    "For our purposes, we will have to reshape the matrix to an  $n×k$  array, where  $n$  is the number of time periods observed, and  $k$  is the number of variables, in this case 3."
   ]
  },
  {
   "cell_type": "code",
   "execution_count": 490,
   "metadata": {
    "collapsed": false,
    "deletable": true,
    "editable": true
   },
   "outputs": [
    {
     "data": {
      "text/html": [
       "<div>\n",
       "<style scoped>\n",
       "    .dataframe tbody tr th:only-of-type {\n",
       "        vertical-align: middle;\n",
       "    }\n",
       "\n",
       "    .dataframe tbody tr th {\n",
       "        vertical-align: top;\n",
       "    }\n",
       "\n",
       "    .dataframe thead th {\n",
       "        text-align: right;\n",
       "    }\n",
       "</style>\n",
       "<table border=\"1\" class=\"dataframe\">\n",
       "  <thead>\n",
       "    <tr style=\"text-align: right;\">\n",
       "      <th></th>\n",
       "      <th>service_coverage</th>\n",
       "    </tr>\n",
       "  </thead>\n",
       "  <tbody>\n",
       "    <tr>\n",
       "      <th>count</th>\n",
       "      <td>117.000000</td>\n",
       "    </tr>\n",
       "    <tr>\n",
       "      <th>mean</th>\n",
       "      <td>99.526752</td>\n",
       "    </tr>\n",
       "    <tr>\n",
       "      <th>std</th>\n",
       "      <td>0.355913</td>\n",
       "    </tr>\n",
       "    <tr>\n",
       "      <th>min</th>\n",
       "      <td>97.870000</td>\n",
       "    </tr>\n",
       "    <tr>\n",
       "      <th>25%</th>\n",
       "      <td>99.380000</td>\n",
       "    </tr>\n",
       "    <tr>\n",
       "      <th>50%</th>\n",
       "      <td>99.630000</td>\n",
       "    </tr>\n",
       "    <tr>\n",
       "      <th>75%</th>\n",
       "      <td>99.730000</td>\n",
       "    </tr>\n",
       "    <tr>\n",
       "      <th>max</th>\n",
       "      <td>99.930000</td>\n",
       "    </tr>\n",
       "  </tbody>\n",
       "</table>\n",
       "</div>"
      ],
      "text/plain": [
       "       service_coverage\n",
       "count        117.000000\n",
       "mean          99.526752\n",
       "std            0.355913\n",
       "min           97.870000\n",
       "25%           99.380000\n",
       "50%           99.630000\n",
       "75%           99.730000\n",
       "max           99.930000"
      ]
     },
     "execution_count": 490,
     "metadata": {},
     "output_type": "execute_result"
    }
   ],
   "source": [
    "data.describe()"
   ]
  },
  {
   "cell_type": "markdown",
   "metadata": {
    "deletable": true,
    "editable": true
   },
   "source": [
    "The count of service_coverage is 117, which means there are 39 observations for each telco, which corresponds with the time period we mentioned in the introduction."
   ]
  },
  {
   "cell_type": "code",
   "execution_count": 491,
   "metadata": {
    "collapsed": false,
    "deletable": true,
    "editable": true
   },
   "outputs": [
    {
     "data": {
      "text/plain": [
       "month               False\n",
       "telco               False\n",
       "service_coverage    False\n",
       "dtype: bool"
      ]
     },
     "execution_count": 491,
     "metadata": {},
     "output_type": "execute_result"
    }
   ],
   "source": [
    "#Checking if there are any missing values\n",
    "data.isnull().any()"
   ]
  },
  {
   "cell_type": "markdown",
   "metadata": {
    "deletable": true,
    "editable": true
   },
   "source": [
    "Lastly, we note that there is no missing data."
   ]
  },
  {
   "cell_type": "markdown",
   "metadata": {
    "deletable": true,
    "editable": true
   },
   "source": [
    "We now wish to visualise our data in a plot. We do this by first converting the month column to datetime, and then using the `pivot` function "
   ]
  },
  {
   "cell_type": "code",
   "execution_count": 492,
   "metadata": {
    "collapsed": false,
    "deletable": true,
    "editable": true
   },
   "outputs": [
    {
     "data": {
      "text/plain": [
       "<matplotlib.text.Text at 0x12e07f2e8>"
      ]
     },
     "execution_count": 492,
     "metadata": {},
     "output_type": "execute_result"
    },
    {
     "data": {
      "image/png": "[encoded data removed]",
      "text/plain": [
       "<matplotlib.figure.Figure at 0x12d79e588>"
      ]
     },
     "metadata": {},
     "output_type": "display_data"
    }
   ],
   "source": [
    "#Pivot the data and convert 'month' to datetime\n",
    "data2 = data.pivot(index='month', values='service_coverage', columns='telco' )\n",
    "data2['month'] = pd.date_range('2013/4', '2016/7', freq='M')\n",
    "\n",
    "#Plot the figure\n",
    "%matplotlib inline\n",
    "plt.figure(figsize=(9, 5), dpi= 80, facecolor='w', edgecolor='k')\n",
    "plt.plot_date(x=data2['month'][:].values, y=data2['Singtel'][:].values, xdate=True, ydate=False, linestyle='solid', marker='None', label='Singtel', color='crimson')\n",
    "plt.plot_date(x=data2['month'][:].values, y=data2['M1'][:].values, xdate=True, ydate=False, linestyle='solid', marker='None', label='M1', color='darkorange')\n",
    "plt.plot_date(x=data2['month'][:].values, y=data2['Starhub'][:].values, xdate=True, ydate=False, linestyle='solid', marker='None', label='Starhub', color='mediumseagreen')\n",
    "plt.xticks(rotation=55)\n",
    "plt.legend()\n",
    "plt.xlabel('Date')\n",
    "plt.ylabel('Service Coverage')\n",
    "plt.title('Plot of Telco Service Coverage between 2013 and 2016')"
   ]
  },
  {
   "cell_type": "markdown",
   "metadata": {
    "deletable": true,
    "editable": true
   },
   "source": [
    "Looking at the plot, we see that M1 had poor performance (by Singaporean standards) in 2013, which could be because it was going through an upgrading exercise (2013). To prevent this from skewing our model, we will only take the time period from January 2014 onwards.\n",
    "\n",
    "In addition, we also notice that for most of 2014 and 2015, the peaks and troughs of the 3 telcos are largely synchronised. We hope that this feature will be reflected in our time series model."
   ]
  },
  {
   "cell_type": "markdown",
   "metadata": {
    "deletable": true,
    "editable": true
   },
   "source": [
    "# Data Preparation"
   ]
  },
  {
   "cell_type": "markdown",
   "metadata": {
    "deletable": true,
    "editable": true
   },
   "source": [
    "As mentioned above we would like to remove the outlier time period, and thus begin observations from January 2014. We would also like to be able to use our model for forecasting, so we will use April to June 2016 as test data. Now, we reshape the data into the $n\\times k$ ndarray as required."
   ]
  },
  {
   "cell_type": "code",
   "execution_count": 493,
   "metadata": {
    "collapsed": false,
    "deletable": true,
    "editable": true
   },
   "outputs": [
    {
     "name": "stdout",
     "output_type": "stream",
     "text": [
      "Dimension of train_array is (27, 3)\n",
      "Dimension of test_array is (3, 3)\n"
     ]
    }
   ],
   "source": [
    "#Remove outlier dates\n",
    "data3 = data2[data2['month'] >= datetime.strptime('Jan 2014', '%b %Y')]\n",
    "#Subset train and test data\n",
    "train_data = data3[data3['month'] < datetime.strptime('Apr 2016', '%b %Y')]\n",
    "test_data = data3[data3['month'] >= datetime.strptime('Apr 2016', '%b %Y')]\n",
    "#Convert data to ndarray\n",
    "train_array = np.array(train_data.drop('month', axis=1))\n",
    "test_array = np.array(test_data.drop('month', axis=1))\n",
    "print('Dimension of train_array is', np.shape(train_array))\n",
    "print('Dimension of test_array is', np.shape(test_array))"
   ]
  },
  {
   "cell_type": "markdown",
   "metadata": {
    "deletable": true,
    "editable": true
   },
   "source": [
    "# Time Series"
   ]
  },
  {
   "cell_type": "markdown",
   "metadata": {
    "deletable": true,
    "editable": true
   },
   "source": [
    "From here on, we will fit the data as a time series, broadly adopting the methodology illustrated on the Stats Models website (Perktold, Seabold & Taylor, 2017), and with theory detailed by 'New Introduction to Multiple Time Series Analysis' (Lütkepohl, 2005).\n",
    "\n",
    "Time series data is a set of points that are indexed by time, for example the height of ocean tides, or the price of stocks. It is used in a variety of fields, such as statistics, signal processing, econometrics and finance. We are often interested in time series forecasting, that is using the data that we have to predict future observations. Suppose we wish to make a forecast $h$ steps in the future. Many models for forecasting take the basic form $y_{t+h}=f\\left(y_{t}, y_{t-1},\\dots,y_{1}\\right)$, such that the value of the variable we wish to predict is a function of all previous observations.\n",
    "\n",
    "We can extend this to multivariate time series, such that at each time step, we observe $k$ different variables. Our forecasting model thus becomes,"
   ]
  },
  {
   "cell_type": "markdown",
   "metadata": {
    "deletable": true,
    "editable": true
   },
   "source": [
    "$$\n",
    "\\begin{aligned}\n",
    "y_{1,t+h} &= f_{1}\\left(y_{1,t}, y_{2,t},\\dots,y_{k,t},y_{1,t-1},\\dots,y_{k,1}\\right) \\\\\n",
    "y_{2,t+h} &= f_{2}\\left(y_{1,t}, y_{2,t},\\dots,y_{k,t},y_{1,t-1},\\dots,y_{k,1}\\right) \\\\\n",
    "& \\vdots \\\\\n",
    "y_{k,t+h} &= f_{k}\\left(y_{1,t}, y_{2,t},\\dots,y_{k,t},y_{1,t-1},\\dots,y_{k,1}\\right) \n",
    "\\end{aligned}\n",
    "$$"
   ]
  },
  {
   "cell_type": "markdown",
   "metadata": {
    "deletable": true,
    "editable": true
   },
   "source": [
    "Note that the $i^{th}$variable, for $i=1,\\dots,k$, at time $t$ may depend on any variable of all past observations, and not just the $i^{th}$variable of the previous observations."
   ]
  },
  {
   "cell_type": "markdown",
   "metadata": {
    "deletable": true,
    "editable": true
   },
   "source": [
    "# Vector Autoregressive Processes"
   ]
  },
  {
   "cell_type": "markdown",
   "metadata": {
    "deletable": true,
    "editable": true
   },
   "source": [
    "An autoregressive (AR) process is a simple model used to model time series data, as it assumes current observations are linear functions of past observations. An autoregressive process with order $p$, or AR$\\left(p\\right)$ process, takes the form $y_{t}=\\nu+\\alpha_{1}y_{t-1}+\\dots+\\alpha_{p}y_{t-p}+\\epsilon_{t}$, where $\\nu$ and the $\\alpha_{i}$ are constants, and $\\epsilon_{t}$ is a random error term. We also assume that the $\\epsilon_{t}$ at each time step are uncorrelated.\n",
    "\n",
    "We can extend the AR process to consider multivariate time series as well, and we call this a vector autoregressive (VAR) process. A VAR$\\left(p\\right)$ process takes the form,"
   ]
  },
  {
   "cell_type": "markdown",
   "metadata": {
    "deletable": true,
    "editable": true
   },
   "source": [
    "$$\n",
    "\\begin{align}\n",
    "Y_{t}=\\nu+A_{1}Y_{t-1}+\\dots+A_{p}Y_{t-p}+\\epsilon_{t} \\\\\n",
    "\\end{align}\n",
    "$$ where"
   ]
  },
  {
   "cell_type": "markdown",
   "metadata": {
    "deletable": true,
    "editable": true
   },
   "source": [
    "$\n",
    "Y_{t}=\\begin{pmatrix}y_{1,t}\\\\ \\vdots \\\\ y_{k,t} \\end{pmatrix},\\ \\nu = \\begin{pmatrix}\\nu_{1}\\\\ \\vdots \\\\ \\nu_{k} \\end{pmatrix},\\ A_{i} = \\begin{pmatrix} \\alpha_{11,i} & \\dots & \\alpha_{1k,i} \\\\ \\vdots & & \\vdots \\\\ \\alpha_{k1,i} & \\dots & \\alpha_{kk,i} \\end{pmatrix},\\ $ and $\\ \\epsilon_{t} = \\begin{pmatrix}\\epsilon_{1,t}\\\\ \\vdots \\\\ \\epsilon_{k,t} \\end{pmatrix}\n",
    "$|\n",
    "\n",
    "Note that each $\\epsilon_{t}$ consists of an independently and identically distributed random $k$-vector with zero means.\n",
    "\n",
    "Before we begin to fit the model, we first need to assume that the time series process is stable, that is the reverse characteristic polynomial, $\\det\\left(I_{k}-A_{1}z -\\dots- A_{p}z^{p}\\right) \\neq 0$ for all $\\left|z\\right|\\leq1$. We can check this by ensuring that the roots of the polynomial all have absolute value greater than 1."
   ]
  },
  {
   "cell_type": "markdown",
   "metadata": {},
   "source": [
    "# Model Fitting"
   ]
  },
  {
   "cell_type": "markdown",
   "metadata": {},
   "source": [
    "## Model Summary"
   ]
  },
  {
   "cell_type": "markdown",
   "metadata": {},
   "source": [
    "Let us first attempt to fit a VAR$(1)$ model using the `fit` method from the `statsmodels.tsa.api` module, and look at the `summary` of the fit."
   ]
  },
  {
   "cell_type": "code",
   "execution_count": 494,
   "metadata": {
    "collapsed": false
   },
   "outputs": [
    {
     "data": {
      "text/plain": [
       "  Summary of Regression Results   \n",
       "==================================\n",
       "Model:                         VAR\n",
       "Method:                        OLS\n",
       "Date:           Tue, 27, Nov, 2018\n",
       "Time:                     16:38:15\n",
       "--------------------------------------------------------------------\n",
       "No. of Equations:         3.00000    BIC:                   -10.5108\n",
       "Nobs:                     26.0000    HQIC:                  -10.9243\n",
       "Log likelihood:           45.5118    FPE:                1.53549e-05\n",
       "AIC:                     -11.0915    Det(Omega_mle):     9.99548e-06\n",
       "--------------------------------------------------------------------\n",
       "Results for equation y1\n",
       "========================================================================\n",
       "           coefficient       std. error           t-stat            prob\n",
       "------------------------------------------------------------------------\n",
       "const       100.027129        31.265141            3.199           0.004\n",
       "L1.y1        -0.009208         0.276229           -0.033           0.974\n",
       "L1.y2        -0.463614         0.318330           -1.456           0.159\n",
       "L1.y3         0.467069         0.395741            1.180           0.251\n",
       "========================================================================\n",
       "\n",
       "Results for equation y2\n",
       "========================================================================\n",
       "           coefficient       std. error           t-stat            prob\n",
       "------------------------------------------------------------------------\n",
       "const       107.001483        27.426225            3.901           0.001\n",
       "L1.y1        -0.142798         0.242312           -0.589           0.562\n",
       "L1.y2        -0.094558         0.279244           -0.339           0.738\n",
       "L1.y3         0.161882         0.347149            0.466           0.646\n",
       "========================================================================\n",
       "\n",
       "Results for equation y3\n",
       "========================================================================\n",
       "           coefficient       std. error           t-stat            prob\n",
       "------------------------------------------------------------------------\n",
       "const       115.964670        21.568257            5.377           0.000\n",
       "L1.y1         0.076320         0.190557            0.401           0.693\n",
       "L1.y2        -0.177660         0.219600           -0.809           0.427\n",
       "L1.y3        -0.061473         0.273002           -0.225           0.824\n",
       "========================================================================\n",
       "\n",
       "Correlation matrix of residuals\n",
       "            y1        y2        y3\n",
       "y1    1.000000  0.667630  0.612542\n",
       "y2    0.667630  1.000000  0.580528\n",
       "y3    0.612542  0.580528  1.000000\n",
       "\n"
      ]
     },
     "execution_count": 494,
     "metadata": {},
     "output_type": "execute_result"
    }
   ],
   "source": [
    "#Create VAR object\n",
    "train_model = VAR(train_array)\n",
    "#Fit VAR(1) model\n",
    "train_VAR1 = train_model.fit(1)\n",
    "train_VAR1.summary()"
   ]
  },
  {
   "cell_type": "markdown",
   "metadata": {},
   "source": [
    "In the table above, 'M1' is denoted by `y1`, 'Singtel' by  `y2` and 'Starhub' by `y3`. It shows that we have obtained the coefficients using ordinary least squares regression. We also see that it has provided us for several possible criteria for model selection, such as the Akaike Information Criterion (AIC), the Bayesian Information Criterion (BIC) and Akaike's Final Prediction Error (FPE). Below this, we see the regression coefficients, standard errors, t-statistics and p-values for each of the predictor variables. Unfortunately, none of the coefficients seem to be significant. Lastly, we have the correlation matrix of the residuals.\n",
    "\n",
    "The above fit is obtained using ordinary least squares estimation. If we define $Y$ and $Z$ as follows,"
   ]
  },
  {
   "cell_type": "markdown",
   "metadata": {},
   "source": [
    "$$\n",
    "\\begin{align}\n",
    "Y = \\begin{pmatrix} y_{1,1} & \\dots & y_{1,t} \\\\ \\vdots & & \\vdots \\\\ y_{k,1} & \\dots & y_{k,t}\n",
    "\\end{pmatrix}\n",
    "\\end{align},\\quad  Z = \\begin{pmatrix} 1 \\\\ y_{1,t} \\\\ \\vdots \\\\ y_{k,t} \\\\ y_{1,t-1} \\\\ \\vdots \\\\ y_{k,t-p+1} \\end{pmatrix}\n",
    "$$"
   ]
  },
  {
   "cell_type": "markdown",
   "metadata": {},
   "source": [
    "We can then form the least squares estimator of the coefficients $\\hat{B}$ and the unbiased estimator covariance matrix $\\hat{\\Sigma}_{u}$, "
   ]
  },
  {
   "cell_type": "markdown",
   "metadata": {},
   "source": [
    "$$\n",
    "\\begin{align}\n",
    "\\hat{B}= YZ^{T}\\left(ZZ^{T}\\right)^{-1}, \\quad \\hat{\\Sigma}_{u}=\\frac{1}{t-kp-1}Y\\left(I_{t}-Z^{T}\\left(ZZ^{T}\\right)^{-1}Z\\right)Y^{T}\n",
    "\\end{align}\n",
    "$$"
   ]
  },
  {
   "cell_type": "markdown",
   "metadata": {},
   "source": [
    "where $Z^{T}$ indicates the transpose of $Z$. "
   ]
  },
  {
   "cell_type": "markdown",
   "metadata": {},
   "source": [
    "## Lag Order Selection"
   ]
  },
  {
   "cell_type": "markdown",
   "metadata": {},
   "source": [
    "In order to fit the model, we first need to choose the lag order for our model, ie select $p$ for the VAR$\\left(p\\right)$ model. We can do this by using the `select_order` method, and choosing $p$ which minimises the AIC. Due to the lack of data, we will use a maximum lag order of 6.\n",
    "\n",
    "The AIC is defined as follows,"
   ]
  },
  {
   "cell_type": "markdown",
   "metadata": {},
   "source": [
    "$$\n",
    "\\begin{aligned}\n",
    "\\text{AIC}\\left(p\\right) &= \\log \\left|\\tilde{\\Sigma}_{u}\\left(p\\right)\\right|+\\frac{2\\dot\\times\\left(\\text{Number of freely estimated parameters}\\right)}{t} \\\\\n",
    "&= \\log \\left|\\tilde{\\Sigma}_{u}\\left(p\\right)\\right|+\\frac{2pk^{2}}{t}\n",
    "\\end{aligned}\n",
    "$$"
   ]
  },
  {
   "cell_type": "markdown",
   "metadata": {},
   "source": [
    "where $\\tilde{\\Sigma}_{u}\\left(p\\right)$ is the maximum likelihood estimate of the covariance matrix. $\\tilde{\\Sigma}_{u}$ is related to $\\hat{\\Sigma}_{u}$ by a factor, $\\hat{\\Sigma}_{u} = \\frac{t}{t-kp-1}\\tilde{\\Sigma}_{u}$. However, both estimators are asymptotically equivalent"
   ]
  },
  {
   "cell_type": "code",
   "execution_count": 495,
   "metadata": {
    "collapsed": false
   },
   "outputs": [
    {
     "name": "stdout",
     "output_type": "stream",
     "text": [
      "                 VAR Order Selection                 \n",
      "=====================================================\n",
      "           aic          bic          fpe         hqic\n",
      "-----------------------------------------------------\n",
      "0       -11.59       -11.44    9.234e-06       -11.56\n",
      "1       -11.05       -10.46    1.605e-05       -10.92\n",
      "2       -11.09       -10.05    1.646e-05       -10.87\n",
      "3       -11.43       -9.935    1.401e-05       -11.10\n",
      "4       -11.72       -9.779    1.523e-05       -11.30\n",
      "5       -12.82       -10.43    1.134e-05       -12.30\n",
      "6      -49.58*      -46.75*   1.029e-20*      -48.97*\n",
      "=====================================================\n",
      "* Minimum\n",
      "\n"
     ]
    },
    {
     "data": {
      "text/plain": [
       "{'aic': 6, 'bic': 6, 'fpe': 6, 'hqic': 6}"
      ]
     },
     "execution_count": 495,
     "metadata": {},
     "output_type": "execute_result"
    }
   ],
   "source": [
    "train_selection = train_model.select_order(6)\n",
    "train_selection"
   ]
  },
  {
   "cell_type": "markdown",
   "metadata": {},
   "source": [
    "We see that the AIC is minimised at $p=6$. We shall use this for our forecasting in the next section."
   ]
  },
  {
   "cell_type": "code",
   "execution_count": 496,
   "metadata": {
    "collapsed": false
   },
   "outputs": [],
   "source": [
    "#Fit VAR(6) model\n",
    "train_VAR6 = train_model.fit(6)"
   ]
  },
  {
   "cell_type": "markdown",
   "metadata": {},
   "source": [
    "# Forecasting"
   ]
  },
  {
   "cell_type": "markdown",
   "metadata": {},
   "source": [
    "Using the `forecast` method, we can obtain the 3-step ahead forecast which is what we wish to use to measure the mean squared error."
   ]
  },
  {
   "cell_type": "code",
   "execution_count": 497,
   "metadata": {
    "collapsed": false
   },
   "outputs": [
    {
     "data": {
      "text/plain": [
       "array([[ 99.52903774,  99.59668118,  99.51036518],\n",
       "       [ 99.24022557,  99.54815744,  99.9469464 ],\n",
       "       [ 99.51055468,  99.62125482,  99.5291577 ]])"
      ]
     },
     "execution_count": 497,
     "metadata": {},
     "output_type": "execute_result"
    }
   ],
   "source": [
    "train_VAR6.forecast(train_array, 3)"
   ]
  },
  {
   "cell_type": "markdown",
   "metadata": {},
   "source": [
    "Note that in the table above, the forecast for each variable is presented columnwise, such that the 1-step ahead for Singtel, M1 and Starhub is 99.529, 99.597 and 99.510 respectively, and so on. It is also possible for us to produce forecast intervals,"
   ]
  },
  {
   "cell_type": "code",
   "execution_count": 498,
   "metadata": {
    "collapsed": false
   },
   "outputs": [
    {
     "data": {
      "text/plain": [
       "(array([[ 99.52903774,  99.59668118,  99.51036518]]),\n",
       " array([[ 98.88442883,  99.31662208,  99.18302426]]),\n",
       " array([[ 100.17364664,   99.87674027,   99.8377061 ]]))"
      ]
     },
     "execution_count": 498,
     "metadata": {},
     "output_type": "execute_result"
    }
   ],
   "source": [
    "train_VAR6.forecast_interval(train_array, 1, 0.05)"
   ]
  },
  {
   "cell_type": "markdown",
   "metadata": {},
   "source": [
    "In the table above, we present a the 1-step ahead forecast interval at $\\alpha=0.05$. Again, the variables are presented columnwise, such that the 95% forecast interval for M1 is $\\left(98.884,100.174\\right)$ and so on. We do note that this could imply some model inadequacy, since we know for a fact that the observation cannot exceed 100. We can also produce plots which show this,"
   ]
  },
  {
   "cell_type": "code",
   "execution_count": 499,
   "metadata": {
    "collapsed": false
   },
   "outputs": [
    {
     "data": {
      "image/png": "[encoded data removed]",
      "text/plain": [
       "<matplotlib.figure.Figure at 0x12e30c8d0>"
      ]
     },
     "metadata": {},
     "output_type": "display_data"
    }
   ],
   "source": [
    "train_VAR6.plot_forecast(3)"
   ]
  },
  {
   "cell_type": "markdown",
   "metadata": {},
   "source": [
    "Lastly, we would like to compute the mean squared error,"
   ]
  },
  {
   "cell_type": "code",
   "execution_count": 500,
   "metadata": {
    "collapsed": false
   },
   "outputs": [
    {
     "data": {
      "text/plain": [
       "0.094429963696167796"
      ]
     },
     "execution_count": 500,
     "metadata": {},
     "output_type": "execute_result"
    }
   ],
   "source": [
    "sum(sum((train_VAR6.forecast(train_array, 3)-test_array)**2))/9\n"
   ]
  },
  {
   "cell_type": "markdown",
   "metadata": {},
   "source": [
    "We see that the MSE is around 0.0944. However, we do not know how well this model is performing. We can check this by producing the 3-step ahead forecasts using the mean of the training data for each variable as the forecast at each step."
   ]
  },
  {
   "cell_type": "code",
   "execution_count": 501,
   "metadata": {
    "collapsed": false
   },
   "outputs": [
    {
     "data": {
      "text/plain": [
       "0.054763374485590849"
      ]
     },
     "execution_count": 501,
     "metadata": {},
     "output_type": "execute_result"
    }
   ],
   "source": [
    "#Calculate means\n",
    "means = np.mean(train_array, axis=0)\n",
    "#Use the means as the forecast at each step\n",
    "means = np.tile(means,(3,1))\n",
    "#Calculate mean squared error\n",
    "MSE0 = sum(sum((means-test_array)**2))/9\n",
    "MSE0"
   ]
  },
  {
   "cell_type": "markdown",
   "metadata": {},
   "source": [
    "Unfortunately, simply using the mean of the training data seems to perform better than our VAR$\\left(6\\right)$ model. Let's take this one step further by calculating the MSE for the forecast produced by each VAR$\\left(p\\right)$ model, for $p=1\\dots6$"
   ]
  },
  {
   "cell_type": "code",
   "execution_count": 502,
   "metadata": {
    "collapsed": false
   },
   "outputs": [
    {
     "data": {
      "text/plain": [
       "<matplotlib.text.Text at 0x12e2c20f0>"
      ]
     },
     "execution_count": 502,
     "metadata": {},
     "output_type": "execute_result"
    },
    {
     "data": {
      "image/png": "[encoded data removed]",
      "text/plain": [
       "<matplotlib.figure.Figure at 0x12d722278>"
      ]
     },
     "metadata": {},
     "output_type": "display_data"
    }
   ],
   "source": [
    "#Initialise array for MSE and fill in first value for MSE from 'null' model\n",
    "MSE_array = np.zeros(7)\n",
    "MSE_array[0] = MSE0\n",
    "\n",
    "#Initialise loop for i=1..6\n",
    "for i in range(6):\n",
    "    #Fit VAR model\n",
    "    train_VAR = train_model.fit(i+1)\n",
    "    #Produce forecast\n",
    "    forecast = train_VAR.forecast(train_array, 3)\n",
    "    #Calculate MSE\n",
    "    MSE = sum(sum((forecast-test_array)**2))/9\n",
    "    MSE_array[i+1] = MSE\n",
    "\n",
    "plt.figure(figsize=(9, 5), dpi= 80, facecolor='w', edgecolor='k')\n",
    "plt.plot(np.arange(7), MSE_array)\n",
    "plt.xlabel('Lag Order')\n",
    "plt.ylabel('Mean Squared Error')\n",
    "plt.title('Plot of Mean Squared Error against Lag Order')"
   ]
  },
  {
   "cell_type": "markdown",
   "metadata": {},
   "source": [
    "We see now that in this case, perhaps selecting a smaller $p$ would have been beneficial."
   ]
  },
  {
   "cell_type": "markdown",
   "metadata": {},
   "source": [
    "# Conclusion and Further Improvement"
   ]
  },
  {
   "cell_type": "markdown",
   "metadata": {},
   "source": [
    "Although our model did not perform up to expectations, I hope that this short report might have helped to introduce time series data and fitting a VAR using the `statsmodels` library. \n",
    "\n",
    "As for improving the model itself, as we noted early on the restriction that data cannot go beyond 100 was not imposed. This alone would have implied that the error terms are not normally distributed, and thus OLS regression is not appropriate. In addition, we did not check for stability or trending within the data, and if this were an issue, we might have tried differencing the data first. Lastly, it would have been much more helpful to obtain more data, since the actual data we used for training only consisted of 27 time periods!\n",
    "\n",
    "Future areas for exploration could include adding more factors to create a panel data set, or employing dynamic vector autoregression, where we use a moving window of data, such that instead of doing a 3-step ahead forecast, we update our model after each observation so that we produce three 1-step ahead forecasts instead."
   ]
  },
  {
   "cell_type": "markdown",
   "metadata": {
    "deletable": true,
    "editable": true
   },
   "source": [
    "# References"
   ]
  },
  {
   "cell_type": "markdown",
   "metadata": {
    "deletable": true,
    "editable": true
   },
   "source": [
    " 1. Government of Singapore. (2017, March). *3G Public Cellular Mobile Telephone Services - Nation-wide Service Coverage*. Retrieved from https://data.gov.sg/dataset/3g-public-cellular-mobile-telephone-services-nation-wide-service-coverage?view_id=d2892dc6-7bcb-4a57-bac7-ed3650415204&resource_id=c7f2dc9d-a1b8-4fca-99fa-91a4ade199d4.\n",
    " 2. Said, C. (2016, February). *How to make polished Jupyter presentations with optional code visibility*. Retrieved from http://chris-said.io/2016/02/13/how-to-make-polished-jupyter-presentations-with-optional-code-visibility/.\n",
    " 3. M1. (2013, May). *M1 expands and upgrades 3G network*. Retrieved from https://www.m1.com.sg/AboutM1/NewsReleases/2013/M1%20expands%20and%20upgrades%203G%20network.aspx\n",
    " 4. Perktold, J, Seabold, S & Taylor, J. (2017). *Vector Autoregressions tsa.vector_ar*. Retrieved from https://www.statsmodels.org/dev/vector_ar.html.\n",
    " 5. Lütkepohl, H. (2005). *New Introduction to Multiple Time Series Analysis*. Berlin: Springer."
   ]
  }
 ],
 "metadata": {
  "kernelspec": {
   "display_name": "Python 3",
   "language": "python",
   "name": "python3"
  },
  "language_info": {
   "codemirror_mode": {
    "name": "ipython",
    "version": 3
   },
   "file_extension": ".py",
   "mimetype": "text/x-python",
   "name": "python",
   "nbconvert_exporter": "python",
   "pygments_lexer": "ipython3",
   "version": "3.5.2"
  }
 },
 "nbformat": 4,
 "nbformat_minor": 2
}
