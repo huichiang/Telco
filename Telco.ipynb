{
 "cells": [
  {
   "cell_type": "raw",
   "metadata": {
    "deletable": true,
    "editable": true
   },
   "source": [
    "<script>\n",
    "  function code_toggle() {\n",
    "    if (code_shown){\n",
    "      $('div.input').hide('500');\n",
    "      $('#toggleButton').val('Show Code')\n",
    "    } else {\n",
    "      $('div.input').show('500');\n",
    "      $('#toggleButton').val('Hide Code')\n",
    "    }\n",
    "    code_shown = !code_shown\n",
    "  }\n",
    "\n",
    "  $( document ).ready(function(){\n",
    "    code_shown=false;\n",
    "    $('div.input').hide()\n",
    "  });\n",
    "</script>\n",
    "<form action=\"javascript:code_toggle()\"><input type=\"submit\" id=\"toggleButton\" value=\"Show Code\"></form>"
   ]
  },
  {
   "cell_type": "markdown",
   "metadata": {
    "deletable": true,
    "editable": true
   },
   "source": [
    "# Introduction"
   ]
  },
  {
   "cell_type": "markdown",
   "metadata": {
    "deletable": true,
    "editable": true
   },
   "source": [
    "In this project, we will be looking at the '3G Public Cellular Mobile Telephone Services - Nationwide Service Coverage' data set available on the Data.gov.sg website (2017). We want to see how we can fit a multivariate time series model on the data, and use our model for forecasting. Here, our data set covers the period between 2013 April and 2016 June for the 3 Singapore telephone companies (telcos), Singtel, M1 and Starhub.\n",
    "\n",
    "If you wish to see the code I used, click the 'Show Code' button at the top of the screen. The code for this was taken from Chris Said (2016)."
   ]
  },
  {
   "cell_type": "markdown",
   "metadata": {
    "deletable": true,
    "editable": true
   },
   "source": [
    "# Exploratory Data Analysis"
   ]
  },
  {
   "cell_type": "markdown",
   "metadata": {
    "deletable": true,
    "editable": true
   },
   "source": [
    "We would first like to import the data from the `csv` file that can be downloaded from the website."
   ]
  },
  {
   "cell_type": "code",
   "execution_count": 321,
   "metadata": {
    "collapsed": false,
    "deletable": true,
    "editable": true
   },
   "outputs": [
    {
     "data": {
      "text/html": [
       "<div>\n",
       "<style scoped>\n",
       "    .dataframe tbody tr th:only-of-type {\n",
       "        vertical-align: middle;\n",
       "    }\n",
       "\n",
       "    .dataframe tbody tr th {\n",
       "        vertical-align: top;\n",
       "    }\n",
       "\n",
       "    .dataframe thead th {\n",
       "        text-align: right;\n",
       "    }\n",
       "</style>\n",
       "<table border=\"1\" class=\"dataframe\">\n",
       "  <thead>\n",
       "    <tr style=\"text-align: right;\">\n",
       "      <th></th>\n",
       "      <th>month</th>\n",
       "      <th>telco</th>\n",
       "      <th>service_coverage</th>\n",
       "    </tr>\n",
       "  </thead>\n",
       "  <tbody>\n",
       "    <tr>\n",
       "      <th>0</th>\n",
       "      <td>2013-04</td>\n",
       "      <td>Singtel</td>\n",
       "      <td>99.11</td>\n",
       "    </tr>\n",
       "    <tr>\n",
       "      <th>1</th>\n",
       "      <td>2013-04</td>\n",
       "      <td>M1</td>\n",
       "      <td>97.93</td>\n",
       "    </tr>\n",
       "    <tr>\n",
       "      <th>2</th>\n",
       "      <td>2013-04</td>\n",
       "      <td>Starhub</td>\n",
       "      <td>99.25</td>\n",
       "    </tr>\n",
       "    <tr>\n",
       "      <th>3</th>\n",
       "      <td>2013-05</td>\n",
       "      <td>Singtel</td>\n",
       "      <td>99.21</td>\n",
       "    </tr>\n",
       "    <tr>\n",
       "      <th>4</th>\n",
       "      <td>2013-05</td>\n",
       "      <td>M1</td>\n",
       "      <td>97.87</td>\n",
       "    </tr>\n",
       "    <tr>\n",
       "      <th>5</th>\n",
       "      <td>2013-05</td>\n",
       "      <td>Starhub</td>\n",
       "      <td>99.20</td>\n",
       "    </tr>\n",
       "    <tr>\n",
       "      <th>6</th>\n",
       "      <td>2013-06</td>\n",
       "      <td>Singtel</td>\n",
       "      <td>99.03</td>\n",
       "    </tr>\n",
       "    <tr>\n",
       "      <th>7</th>\n",
       "      <td>2013-06</td>\n",
       "      <td>M1</td>\n",
       "      <td>98.17</td>\n",
       "    </tr>\n",
       "    <tr>\n",
       "      <th>8</th>\n",
       "      <td>2013-06</td>\n",
       "      <td>Starhub</td>\n",
       "      <td>99.40</td>\n",
       "    </tr>\n",
       "    <tr>\n",
       "      <th>9</th>\n",
       "      <td>2013-07</td>\n",
       "      <td>Singtel</td>\n",
       "      <td>99.33</td>\n",
       "    </tr>\n",
       "  </tbody>\n",
       "</table>\n",
       "</div>"
      ],
      "text/plain": [
       "     month    telco  service_coverage\n",
       "0  2013-04  Singtel             99.11\n",
       "1  2013-04       M1             97.93\n",
       "2  2013-04  Starhub             99.25\n",
       "3  2013-05  Singtel             99.21\n",
       "4  2013-05       M1             97.87\n",
       "5  2013-05  Starhub             99.20\n",
       "6  2013-06  Singtel             99.03\n",
       "7  2013-06       M1             98.17\n",
       "8  2013-06  Starhub             99.40\n",
       "9  2013-07  Singtel             99.33"
      ]
     },
     "execution_count": 321,
     "metadata": {},
     "output_type": "execute_result"
    }
   ],
   "source": [
    "#Importing libraries that we will use\n",
    "import pandas as pd\n",
    "import matplotlib.pyplot as plt\n",
    "import matplotlib.dates\n",
    "from datetime import datetime\n",
    "import numpy as np\n",
    "import statsmodels.api as sm\n",
    "from statsmodels.tsa.api import VAR, DynamicVAR\n",
    "\n",
    "#Importing data from csv file into a pandas dataframe\n",
    "data = pd.read_csv('Telco.csv')\n",
    "data.head(10)"
   ]
  },
  {
   "cell_type": "markdown",
   "metadata": {
    "deletable": true,
    "editable": true
   },
   "source": [
    "For our purposes, we will have to reshape the matrix to an  $n×k$  array, where  $n$  is the number of time periods observed, and  $k$  is the number of variables, in this case 3."
   ]
  },
  {
   "cell_type": "code",
   "execution_count": 170,
   "metadata": {
    "collapsed": false,
    "deletable": true,
    "editable": true
   },
   "outputs": [
    {
     "data": {
      "text/html": [
       "<div>\n",
       "<style scoped>\n",
       "    .dataframe tbody tr th:only-of-type {\n",
       "        vertical-align: middle;\n",
       "    }\n",
       "\n",
       "    .dataframe tbody tr th {\n",
       "        vertical-align: top;\n",
       "    }\n",
       "\n",
       "    .dataframe thead th {\n",
       "        text-align: right;\n",
       "    }\n",
       "</style>\n",
       "<table border=\"1\" class=\"dataframe\">\n",
       "  <thead>\n",
       "    <tr style=\"text-align: right;\">\n",
       "      <th></th>\n",
       "      <th>service_coverage</th>\n",
       "    </tr>\n",
       "  </thead>\n",
       "  <tbody>\n",
       "    <tr>\n",
       "      <th>count</th>\n",
       "      <td>117.000000</td>\n",
       "    </tr>\n",
       "    <tr>\n",
       "      <th>mean</th>\n",
       "      <td>99.526752</td>\n",
       "    </tr>\n",
       "    <tr>\n",
       "      <th>std</th>\n",
       "      <td>0.355913</td>\n",
       "    </tr>\n",
       "    <tr>\n",
       "      <th>min</th>\n",
       "      <td>97.870000</td>\n",
       "    </tr>\n",
       "    <tr>\n",
       "      <th>25%</th>\n",
       "      <td>99.380000</td>\n",
       "    </tr>\n",
       "    <tr>\n",
       "      <th>50%</th>\n",
       "      <td>99.630000</td>\n",
       "    </tr>\n",
       "    <tr>\n",
       "      <th>75%</th>\n",
       "      <td>99.730000</td>\n",
       "    </tr>\n",
       "    <tr>\n",
       "      <th>max</th>\n",
       "      <td>99.930000</td>\n",
       "    </tr>\n",
       "  </tbody>\n",
       "</table>\n",
       "</div>"
      ],
      "text/plain": [
       "       service_coverage\n",
       "count        117.000000\n",
       "mean          99.526752\n",
       "std            0.355913\n",
       "min           97.870000\n",
       "25%           99.380000\n",
       "50%           99.630000\n",
       "75%           99.730000\n",
       "max           99.930000"
      ]
     },
     "execution_count": 170,
     "metadata": {},
     "output_type": "execute_result"
    }
   ],
   "source": [
    "data.describe()"
   ]
  },
  {
   "cell_type": "markdown",
   "metadata": {
    "deletable": true,
    "editable": true
   },
   "source": [
    "The count of service_coverage is 117, which means there are 39 observations for each telco, which corresponds with the time period we mentioned in the introduction."
   ]
  },
  {
   "cell_type": "code",
   "execution_count": 171,
   "metadata": {
    "collapsed": false,
    "deletable": true,
    "editable": true
   },
   "outputs": [
    {
     "data": {
      "text/plain": [
       "month               False\n",
       "telco               False\n",
       "service_coverage    False\n",
       "dtype: bool"
      ]
     },
     "execution_count": 171,
     "metadata": {},
     "output_type": "execute_result"
    }
   ],
   "source": [
    "#Checking if there are any missing values\n",
    "data.isnull().any()"
   ]
  },
  {
   "cell_type": "markdown",
   "metadata": {
    "deletable": true,
    "editable": true
   },
   "source": [
    "Lastly, we note that there is no missing data."
   ]
  },
  {
   "cell_type": "markdown",
   "metadata": {
    "deletable": true,
    "editable": true
   },
   "source": [
    "We now wish to visualise our data in a plot. We do this by first converting the month column to datetime, and then using the `pivot` function "
   ]
  },
  {
   "cell_type": "code",
   "execution_count": 172,
   "metadata": {
    "collapsed": false,
    "deletable": true,
    "editable": true
   },
   "outputs": [
    {
     "data": {
      "text/plain": [
       "<matplotlib.text.Text at 0x128a76cf8>"
      ]
     },
     "execution_count": 172,
     "metadata": {},
     "output_type": "execute_result"
    },
    {
     "data": {
      "image/png": "[encoded data removed]",
      "text/plain": [
       "<matplotlib.figure.Figure at 0x1283a4d68>"
      ]
     },
     "metadata": {},
     "output_type": "display_data"
    }
   ],
   "source": [
    "#Pivot the data and convert 'month' to datetime\n",
    "data2 = data.pivot(index='month', values='service_coverage', columns='telco' )\n",
    "data2['month'] = pd.date_range('2013/4', '2016/7', freq='M')\n",
    "\n",
    "#Plot the figure\n",
    "%matplotlib inline\n",
    "plt.figure(figsize=(9, 5), dpi= 80, facecolor='w', edgecolor='k')\n",
    "plt.plot_date(x=data2['month'][:].values, y=data2['Singtel'][:].values, xdate=True, ydate=False, linestyle='solid', marker='None', label='Singtel', color='crimson')\n",
    "plt.plot_date(x=data2['month'][:].values, y=data2['M1'][:].values, xdate=True, ydate=False, linestyle='solid', marker='None', label='M1', color='darkorange')\n",
    "plt.plot_date(x=data2['month'][:].values, y=data2['Starhub'][:].values, xdate=True, ydate=False, linestyle='solid', marker='None', label='Starhub', color='mediumseagreen')\n",
    "plt.xticks(rotation=55)\n",
    "plt.legend()\n",
    "plt.xlabel('Date')\n",
    "plt.ylabel('Service Coverage')\n",
    "plt.title('Plot of Telco Service Coverage between 2013 and 2016')"
   ]
  },
  {
   "cell_type": "markdown",
   "metadata": {
    "deletable": true,
    "editable": true
   },
   "source": [
    "Looking at the plot, we see that M1 had poor performance (by Singaporean standards) in 2013, which could be because it was going through an upgrading exercise (2013). To prevent this from skewing our model, we will only take the time period from January 2014 onwards.\n",
    "\n",
    "In addition, we also notice that for most of 2014 and 2015, the peaks and troughs of the 3 telcos are largely synchronised. We hope that this feature will be reflected in our time series model."
   ]
  },
  {
   "cell_type": "markdown",
   "metadata": {
    "deletable": true,
    "editable": true
   },
   "source": [
    "# Data Preparation"
   ]
  },
  {
   "cell_type": "markdown",
   "metadata": {
    "deletable": true,
    "editable": true
   },
   "source": [
    "As mentioned above we would like to remove the outlier time period, and thus begin observations from January 2014. We would also like to be able to use our model for forecasting, so we will use April to June 2016 as test data. Now, we reshape the data into the $n\\times k$ ndarray as required."
   ]
  },
  {
   "cell_type": "code",
   "execution_count": 374,
   "metadata": {
    "collapsed": false,
    "deletable": true,
    "editable": true
   },
   "outputs": [
    {
     "name": "stdout",
     "output_type": "stream",
     "text": [
      "Dimension of train_array is (27, 3)\n",
      "Dimension of test_array is (3, 3)\n"
     ]
    }
   ],
   "source": [
    "#Remove outlier dates\n",
    "data3 = data2[data2['month'] >= datetime.strptime('Jan 2014', '%b %Y')]\n",
    "#Subset train and test data\n",
    "train_data = data3[data3['month'] < datetime.strptime('Apr 2016', '%b %Y')]\n",
    "test_data = data3[data3['month'] >= datetime.strptime('Apr 2016', '%b %Y')]\n",
    "#Convert data to ndarray\n",
    "train_array = np.array(train_data.drop('month', axis=1))\n",
    "test_array = np.array(test_data.drop('month', axis=1))\n",
    "print('Dimension of train_array is', np.shape(train_array))\n",
    "print('Dimension of test_array is', np.shape(test_array))"
   ]
  },
  {
   "cell_type": "markdown",
   "metadata": {
    "deletable": true,
    "editable": true
   },
   "source": [
    "# Time Series"
   ]
  },
  {
   "cell_type": "markdown",
   "metadata": {
    "deletable": true,
    "editable": true
   },
   "source": [
    "From here on, we will fit the data as a time series, broadly adopting the methodology illustrated on the Stats Models website (Perktold, Seabold & Taylor, 2017), and with theory detailed by 'New Introduction to Multiple Time Series Analysis' (Lütkepohl, 2005).\n",
    "\n",
    "Time series data is a set of points that are indexed by time, for example the height of ocean tides, or the price of stocks. It is used in a variety of fields, such as statistics, signal processing, econometrics and finance. We are often interested in time series forecasting, that is using the data that we have to predict future observations. Suppose we wish to make a forecast $h$ steps in the future. Many models for forecasting take the basic form $y_{t+h}=f\\left(y_{t}, y_{t-1},\\dots,y_{1}\\right)$, such that the value of the variable we wish to predict is a function of all previous observations.\n",
    "\n",
    "We can extend this to multivariate time series, such that at each time step, we observe $k$ different variables. Our forecasting model thus becomes,"
   ]
  },
  {
   "cell_type": "markdown",
   "metadata": {
    "deletable": true,
    "editable": true
   },
   "source": [
    "$$\n",
    "\\begin{aligned}\n",
    "y_{1,t+h} &= f_{1}\\left(y_{1,t}, y_{2,t},\\dots,y_{k,t},y_{1,t-1},\\dots,y_{k,1}\\right) \\\\\n",
    "y_{2,t+h} &= f_{2}\\left(y_{1,t}, y_{2,t},\\dots,y_{k,t},y_{1,t-1},\\dots,y_{k,1}\\right) \\\\\n",
    "& \\vdots \\\\\n",
    "y_{k,t+h} &= f_{k}\\left(y_{1,t}, y_{2,t},\\dots,y_{k,t},y_{1,t-1},\\dots,y_{k,1}\\right) \n",
    "\\end{aligned}\n",
    "$$"
   ]
  },
  {
   "cell_type": "markdown",
   "metadata": {
    "deletable": true,
    "editable": true
   },
   "source": [
    "Note that the $i^{th}$variable, for $i=1,\\dots,k$, at time $t$ may depend on any variable of all past observations, and not just the $i^{th}$variable of the previous observations."
   ]
  },
  {
   "cell_type": "markdown",
   "metadata": {
    "deletable": true,
    "editable": true
   },
   "source": [
    "# Vector Autoregressive Processes"
   ]
  },
  {
   "cell_type": "markdown",
   "metadata": {
    "deletable": true,
    "editable": true
   },
   "source": [
    "An autoregressive (AR) process is a simple model used to model time series data, as it assumes current observations are linear functions of past observations. An autoregressive process with order $p$, or AR$\\left(p\\right)$ process, takes the form $y_{t}=\\nu+\\alpha_{1}y_{t-1}+\\dots+\\alpha_{p}y_{t-p}+\\epsilon_{t}$, where $\\nu$ and the $\\alpha_{i}$ are constants, and $\\epsilon_{t}$ is a random error term. We also assume that the $\\epsilon_{t}$ at each time step are uncorrelated.\n",
    "\n",
    "We can extend the AR process to consider multivariate time series as well, and we call this a vector autoregressive (VAR) process. A VAR$\\left(p\\right)$ process takes the form,"
   ]
  },
  {
   "cell_type": "markdown",
   "metadata": {
    "deletable": true,
    "editable": true
   },
   "source": [
    "$$\n",
    "\\begin{align}\n",
    "Y_{t}=\\nu+A_{1}Y_{t-1}+\\dots+A_{p}Y_{t-p}+\\epsilon_{t} \\\\\n",
    "\\end{align}\n",
    "$$ where"
   ]
  },
  {
   "cell_type": "markdown",
   "metadata": {
    "deletable": true,
    "editable": true
   },
   "source": [
    "$\n",
    "Y_{t}=\\begin{pmatrix}y_{1,t}\\\\ \\vdots \\\\ y_{k,t} \\end{pmatrix},\\ \\nu = \\begin{pmatrix}\\nu_{1}\\\\ \\vdots \\\\ \\nu_{k} \\end{pmatrix},\\ A_{i} = \\begin{pmatrix} \\alpha_{11,i} & \\dots & \\alpha_{1k,i} \\\\ \\vdots & & \\vdots \\\\ \\alpha_{k1,i} & \\dots & \\alpha_{kk,i} \\end{pmatrix},\\ $ and $\\ \\epsilon_{t} = \\begin{pmatrix}\\epsilon_{1,t}\\\\ \\vdots \\\\ \\epsilon_{k,t} \\end{pmatrix}\n",
    "$|\n",
    "\n",
    "Note that each $\\epsilon_{t}$ consists of an independently and identically distributed random $k$-vector with zero means.\n",
    "\n",
    "Before we begin to fit the model, we first need to assume that the time series process is stable, that is the reverse characteristic polynomial, $\\det\\left(I_{k}-A_{1}z -\\dots- A_{p}z^{p}\\right) \\neq 0$ for all $\\left|z\\right|\\leq1$. We can check this by ensuring that the roots of the polynomial all have absolute value greater than 1."
   ]
  },
  {
   "cell_type": "markdown",
   "metadata": {},
   "source": [
    "# Model Fitting"
   ]
  },
  {
   "cell_type": "markdown",
   "metadata": {},
   "source": [
    "## Model Summary"
   ]
  },
  {
   "cell_type": "markdown",
   "metadata": {},
   "source": [
    "Let us first attempt to fit a VAR$(1)$ model using the `fit` method from the `statsmodels.tsa.api` module, and look at the `summary` of the fit."
   ]
  },
  {
   "cell_type": "code",
   "execution_count": 375,
   "metadata": {
    "collapsed": false
   },
   "outputs": [
    {
     "data": {
      "text/plain": [
       "  Summary of Regression Results   \n",
       "==================================\n",
       "Model:                         VAR\n",
       "Method:                        OLS\n",
       "Date:           Tue, 27, Nov, 2018\n",
       "Time:                     01:21:18\n",
       "--------------------------------------------------------------------\n",
       "No. of Equations:         3.00000    BIC:                   -10.5108\n",
       "Nobs:                     26.0000    HQIC:                  -10.9243\n",
       "Log likelihood:           45.5118    FPE:                1.53549e-05\n",
       "AIC:                     -11.0915    Det(Omega_mle):     9.99548e-06\n",
       "--------------------------------------------------------------------\n",
       "Results for equation y1\n",
       "========================================================================\n",
       "           coefficient       std. error           t-stat            prob\n",
       "------------------------------------------------------------------------\n",
       "const       100.027129        31.265141            3.199           0.004\n",
       "L1.y1        -0.009208         0.276229           -0.033           0.974\n",
       "L1.y2        -0.463614         0.318330           -1.456           0.159\n",
       "L1.y3         0.467069         0.395741            1.180           0.251\n",
       "========================================================================\n",
       "\n",
       "Results for equation y2\n",
       "========================================================================\n",
       "           coefficient       std. error           t-stat            prob\n",
       "------------------------------------------------------------------------\n",
       "const       107.001483        27.426225            3.901           0.001\n",
       "L1.y1        -0.142798         0.242312           -0.589           0.562\n",
       "L1.y2        -0.094558         0.279244           -0.339           0.738\n",
       "L1.y3         0.161882         0.347149            0.466           0.646\n",
       "========================================================================\n",
       "\n",
       "Results for equation y3\n",
       "========================================================================\n",
       "           coefficient       std. error           t-stat            prob\n",
       "------------------------------------------------------------------------\n",
       "const       115.964670        21.568257            5.377           0.000\n",
       "L1.y1         0.076320         0.190557            0.401           0.693\n",
       "L1.y2        -0.177660         0.219600           -0.809           0.427\n",
       "L1.y3        -0.061473         0.273002           -0.225           0.824\n",
       "========================================================================\n",
       "\n",
       "Correlation matrix of residuals\n",
       "            y1        y2        y3\n",
       "y1    1.000000  0.667630  0.612542\n",
       "y2    0.667630  1.000000  0.580528\n",
       "y3    0.612542  0.580528  1.000000\n",
       "\n"
      ]
     },
     "execution_count": 375,
     "metadata": {},
     "output_type": "execute_result"
    }
   ],
   "source": [
    "#Create VAR object\n",
    "train_model = VAR(train_array)\n",
    "#Fit VAR(1) model\n",
    "train_VAR1 = train_model.fit(1)\n",
    "train_VAR1.summary()"
   ]
  },
  {
   "cell_type": "markdown",
   "metadata": {},
   "source": [
    "The table above is quite informative. It shows that we have obtained the coefficients using ordinary least squares regression. We also see that it has provided us for several possible criteria for model selection, such as the Akaike Information Criterion (AIC), the Bayesian Information Criterion (BIC) and Akaike's Final Prediction Error (FPE). Below this, we see the regression coefficients, standard errors, t-statistics and p-values for each of the predictor variables. Unfortunately, none of the coefficients seem to be significant. Lastly, we have the correlation matrix of the residuals.\n",
    "\n",
    "The above fit is obtained using ordinary least squares estimation. If we define $Y$ and $Z$ as follows,"
   ]
  },
  {
   "cell_type": "markdown",
   "metadata": {},
   "source": [
    "$$\n",
    "\\begin{align}\n",
    "Y = \\begin{pmatrix} y_{1,1} & \\dots & y_{1,t} \\\\ \\vdots & & \\vdots \\\\ y_{k,1} & \\dots & y_{k,t}\n",
    "\\end{pmatrix}\n",
    "\\end{align},\\quad  Z = \\begin{pmatrix} 1 \\\\ y_{1,t} \\\\ \\vdots \\\\ y_{k,t} \\\\ y_{1,t-1} \\\\ \\vdots \\\\ y_{k,t-p+1} \\end{pmatrix}\n",
    "$$"
   ]
  },
  {
   "cell_type": "markdown",
   "metadata": {},
   "source": [
    "We can then form the least squares estimator of the coefficients $\\hat{B}$ and the unbiased estimator covariance matrix $\\hat{\\Sigma}_{u}$, "
   ]
  },
  {
   "cell_type": "markdown",
   "metadata": {},
   "source": [
    "$$\n",
    "\\begin{align}\n",
    "\\hat{B}= YZ^{T}\\left(ZZ^{T}\\right)^{-1}, \\quad \\hat{\\Sigma}_{u}=\\frac{1}{t-kp-1}Y\\left(I_{t}-Z^{T}\\left(ZZ^{T}\\right)^{-1}Z\\right)Y^{T}\n",
    "\\end{align}\n",
    "$$"
   ]
  },
  {
   "cell_type": "markdown",
   "metadata": {},
   "source": [
    "where $Z^{T}$ indicates the transpose of $Z$. "
   ]
  },
  {
   "cell_type": "markdown",
   "metadata": {},
   "source": [
    "## Lag Order Selection"
   ]
  },
  {
   "cell_type": "markdown",
   "metadata": {},
   "source": [
    "In order to fit the model, we first need to choose the lag order for our model, ie select $p$ for the VAR$\\left(p\\right)$ model. We can do this by using the `select_order` method, and choosing $p$ which minimises the AIC. Due to the lack of data, we will use a maximum lag order of 6.\n",
    "\n",
    "The AIC is defined as follows,"
   ]
  },
  {
   "cell_type": "markdown",
   "metadata": {},
   "source": [
    "$$\n",
    "\\begin{aligned}\n",
    "\\text{AIC}\\left(p\\right) &= \\log \\left|\\tilde{\\Sigma}_{u}\\left(p\\right)\\right|+\\frac{2\\dot\\times\\left(\\text{Number of freely estimated parameters}\\right)}{t} \\\\\n",
    "&= \\log \\left|\\tilde{\\Sigma}_{u}\\left(p\\right)\\right|+\\frac{2pk^{2}}{t}\n",
    "\\end{aligned}\n",
    "$$"
   ]
  },
  {
   "cell_type": "markdown",
   "metadata": {},
   "source": [
    "where $\\tilde{\\Sigma}_{u}\\left(p\\right)$ is the maximum likelihood estimate of the covariance matrix. $\\tilde{\\Sigma}_{u}$ is related to $\\hat{\\Sigma}_{u}$ by a factor, $\\hat{\\Sigma}_{u} = \\frac{t}{t-kp-1}\\tilde{\\Sigma}_{u}$. However, both estimators are asymptotically equivalent"
   ]
  },
  {
   "cell_type": "code",
   "execution_count": 376,
   "metadata": {
    "collapsed": false
   },
   "outputs": [
    {
     "name": "stdout",
     "output_type": "stream",
     "text": [
      "                 VAR Order Selection                 \n",
      "=====================================================\n",
      "           aic          bic          fpe         hqic\n",
      "-----------------------------------------------------\n",
      "0       -11.59       -11.44    9.234e-06       -11.56\n",
      "1       -11.05       -10.46    1.605e-05       -10.92\n",
      "2       -11.09       -10.05    1.646e-05       -10.87\n",
      "3       -11.43       -9.935    1.401e-05       -11.10\n",
      "4       -11.72       -9.779    1.523e-05       -11.30\n",
      "5       -12.82       -10.43    1.134e-05       -12.30\n",
      "6      -49.58*      -46.75*   1.029e-20*      -48.97*\n",
      "=====================================================\n",
      "* Minimum\n",
      "\n"
     ]
    },
    {
     "data": {
      "text/plain": [
       "{'aic': 6, 'bic': 6, 'fpe': 6, 'hqic': 6}"
      ]
     },
     "execution_count": 376,
     "metadata": {},
     "output_type": "execute_result"
    }
   ],
   "source": [
    "train_selection = train_model.select_order(6)\n",
    "train_selection"
   ]
  },
  {
   "cell_type": "markdown",
   "metadata": {},
   "source": [
    "We see that the AIC is minimised at $p=6$. We shall use this for our forecasting in the next section."
   ]
  },
  {
   "cell_type": "code",
   "execution_count": 377,
   "metadata": {
    "collapsed": false
   },
   "outputs": [
    {
     "data": {
      "text/plain": [
       "  Summary of Regression Results   \n",
       "==================================\n",
       "Model:                         VAR\n",
       "Method:                        OLS\n",
       "Date:           Tue, 27, Nov, 2018\n",
       "Time:                     01:21:30\n",
       "--------------------------------------------------------------------\n",
       "No. of Equations:         3.00000    BIC:                   -46.7463\n",
       "Nobs:                     21.0000    HQIC:                  -48.9661\n",
       "Log likelihood:           488.212    FPE:                1.02932e-20\n",
       "AIC:                     -49.5814    Det(Omega_mle):     1.05959e-21\n",
       "--------------------------------------------------------------------\n",
       "Results for equation y1\n",
       "========================================================================\n",
       "           coefficient       std. error           t-stat            prob\n",
       "------------------------------------------------------------------------\n",
       "const      -164.990694       264.920984           -0.623           0.597\n",
       "L1.y1        -0.121107         1.330723           -0.091           0.936\n",
       "L1.y2        -0.991691         1.360311           -0.729           0.542\n",
       "L1.y3         1.442403         0.847115            1.703           0.231\n",
       "L2.y1         0.468266         1.008615            0.464           0.688\n",
       "L2.y2        -1.504384         1.172623           -1.283           0.328\n",
       "L2.y3         0.969977         1.987887            0.488           0.674\n",
       "L3.y1        -0.323722         0.698266           -0.464           0.688\n",
       "L3.y2         0.130921         1.915842            0.068           0.952\n",
       "L3.y3         0.517777         1.050089            0.493           0.671\n",
       "L4.y1         0.050676         0.569543            0.089           0.937\n",
       "L4.y2        -0.262310         0.984914           -0.266           0.815\n",
       "L4.y3         0.976737         1.469907            0.664           0.575\n",
       "L5.y1         0.615567         0.768598            0.801           0.507\n",
       "L5.y2        -0.625361         0.973847           -0.642           0.587\n",
       "L5.y3         0.524566         0.790311            0.664           0.575\n",
       "L6.y1         0.310463         0.871717            0.356           0.756\n",
       "L6.y2         0.062337         1.191737            0.052           0.963\n",
       "L6.y3         0.405810         1.715769            0.237           0.835\n",
       "========================================================================\n",
       "\n",
       "Results for equation y2\n",
       "========================================================================\n",
       "           coefficient       std. error           t-stat            prob\n",
       "------------------------------------------------------------------------\n",
       "const      -146.054070       115.098520           -1.269           0.332\n",
       "L1.y1        -0.427449         0.578151           -0.739           0.537\n",
       "L1.y2        -0.478056         0.591005           -0.809           0.504\n",
       "L1.y3         0.546340         0.368041            1.484           0.276\n",
       "L2.y1         0.521161         0.438206            1.189           0.356\n",
       "L2.y2        -1.224993         0.509462           -2.404           0.138\n",
       "L2.y3         1.243198         0.863665            1.439           0.287\n",
       "L3.y1         0.253447         0.303371            0.835           0.491\n",
       "L3.y2        -0.220883         0.832364           -0.265           0.816\n",
       "L3.y3         0.673954         0.456225            1.477           0.278\n",
       "L4.y1        -0.082220         0.247446           -0.332           0.771\n",
       "L4.y2         0.598494         0.427909            1.399           0.297\n",
       "L4.y3         0.141165         0.638621            0.221           0.846\n",
       "L5.y1         0.253757         0.333928            0.760           0.527\n",
       "L5.y2        -0.606060         0.423101           -1.432           0.288\n",
       "L5.y3         0.783224         0.343362            2.281           0.150\n",
       "L6.y1         0.519212         0.378729            1.371           0.304\n",
       "L6.y2        -0.581643         0.517766           -1.123           0.378\n",
       "L6.y3         0.545909         0.745439            0.732           0.540\n",
       "========================================================================\n",
       "\n",
       "Results for equation y3\n",
       "========================================================================\n",
       "           coefficient       std. error           t-stat            prob\n",
       "------------------------------------------------------------------------\n",
       "const       132.345136       134.530375            0.984           0.429\n",
       "L1.y1        -0.371946         0.675759           -0.550           0.637\n",
       "L1.y2        -0.298588         0.690784           -0.432           0.708\n",
       "L1.y3        -0.200789         0.430176           -0.467           0.687\n",
       "L2.y1         0.423345         0.512188            0.827           0.495\n",
       "L2.y2        -0.713025         0.595474           -1.197           0.354\n",
       "L2.y3         0.768631         1.009475            0.761           0.526\n",
       "L3.y1         0.042475         0.354589            0.120           0.916\n",
       "L3.y2        -0.032888         0.972890           -0.034           0.976\n",
       "L3.y3        -0.152169         0.533249           -0.285           0.802\n",
       "L4.y1        -0.552834         0.289222           -1.911           0.196\n",
       "L4.y2         0.739279         0.500152            1.478           0.277\n",
       "L4.y3         0.209342         0.746438            0.280           0.805\n",
       "L5.y1        -0.286663         0.390304           -0.734           0.539\n",
       "L5.y2        -0.446261         0.494532           -0.902           0.462\n",
       "L5.y3         0.365558         0.401331            0.911           0.459\n",
       "L6.y1         0.322410         0.442669            0.728           0.542\n",
       "L6.y2        -0.750407         0.605180           -1.240           0.341\n",
       "L6.y3         0.603422         0.871290            0.693           0.560\n",
       "========================================================================\n",
       "\n",
       "Correlation matrix of residuals\n",
       "            y1        y2        y3\n",
       "y1    1.000000  0.566671  0.579503\n",
       "y2    0.566671  1.000000 -0.343103\n",
       "y3    0.579503 -0.343103  1.000000\n",
       "\n"
      ]
     },
     "execution_count": 377,
     "metadata": {},
     "output_type": "execute_result"
    }
   ],
   "source": [
    "#Fit VAR(6) model\n",
    "train_VAR6 = train_model.fit(6)\n",
    "train_VAR6.summary()"
   ]
  },
  {
   "cell_type": "markdown",
   "metadata": {
    "deletable": true,
    "editable": true
   },
   "source": [
    "# References"
   ]
  },
  {
   "cell_type": "markdown",
   "metadata": {
    "deletable": true,
    "editable": true
   },
   "source": [
    " 1. Government of Singapore. (2017, March). *3G Public Cellular Mobile Telephone Services - Nation-wide Service Coverage*. Retrieved from https://data.gov.sg/dataset/3g-public-cellular-mobile-telephone-services-nation-wide-service-coverage?view_id=d2892dc6-7bcb-4a57-bac7-ed3650415204&resource_id=c7f2dc9d-a1b8-4fca-99fa-91a4ade199d4.\n",
    " 2. Said, C. (2016, February). *How to make polished Jupyter presentations with optional code visibility*. Retrieved from http://chris-said.io/2016/02/13/how-to-make-polished-jupyter-presentations-with-optional-code-visibility/.\n",
    " 3. M1. (2013, May). *M1 expands and upgrades 3G network*. Retrieved from https://www.m1.com.sg/AboutM1/NewsReleases/2013/M1%20expands%20and%20upgrades%203G%20network.aspx\n",
    " 4. Perktold, J, Seabold, S & Taylor, J. (2017). *Vector Autoregressions tsa.vector_ar*. Retrieved from https://www.statsmodels.org/dev/vector_ar.html.\n",
    " 5. Lütkepohl, H. (2005). *New Introduction to Multiple Time Series Analysis*. Berlin: Springer."
   ]
  }
 ],
 "metadata": {
  "kernelspec": {
   "display_name": "Python 3",
   "language": "python",
   "name": "python3"
  },
  "language_info": {
   "codemirror_mode": {
    "name": "ipython",
    "version": 3
   },
   "file_extension": ".py",
   "mimetype": "text/x-python",
   "name": "python",
   "nbconvert_exporter": "python",
   "pygments_lexer": "ipython3",
   "version": "3.5.2"
  }
 },
 "nbformat": 4,
 "nbformat_minor": 2
}
